{
 "cells": [
  {
   "cell_type": "code",
   "execution_count": 59,
   "metadata": {},
   "outputs": [],
   "source": [
    "# OCR portion of recipEATS. Converts (Trader Joe's) receipt \n",
    "# \n",
    "# Inputs: \n",
    "# image of a (Trader Joe's) receipt as a .jpg file.\n",
    "# \n",
    "# Outputs: \n",
    "# clean list of products from said receipt.\n",
    "\n",
    "from PIL import Image\n",
    "from pytesseract import image_to_string\n",
    "import requests, re, os                         \n",
    "from nutritionix import Nutritionix\n",
    "import pandas as pd\n",
    "from difflib import SequenceMatcher"
   ]
  },
  {
   "cell_type": "code",
   "execution_count": 60,
   "metadata": {},
   "outputs": [],
   "source": [
    "# open each receipt image\n",
    "ims = [Image.open('./receipts/' + x) for x in os.listdir('./receipts')]"
   ]
  },
  {
   "cell_type": "code",
   "execution_count": 87,
   "metadata": {},
   "outputs": [],
   "source": [
    "# textify first receipt\n",
    "txt = image_to_string(ims[1]).lower()"
   ]
  },
  {
   "cell_type": "code",
   "execution_count": 88,
   "metadata": {},
   "outputs": [],
   "source": [
    "# split by line\n",
    "# remove part of string to the right of digits (quantity, dollar amount)\n",
    "# remove empty strings\n",
    "item_list = txt.split('\\n')\n",
    "item_list = (re.split('\\d', item)[0] for item in item_list)\n",
    "item_list = list(filter(None, item_list))"
   ]
  },
  {
   "cell_type": "code",
   "execution_count": 89,
   "metadata": {},
   "outputs": [],
   "source": [
    "# get Nutritionix API credentials\n",
    "with open('./keys/nxAPIkey.txt') as f:\n",
    "    nx_app_id = f.readline().split()[1]\n",
    "    nx_api_key = f.readline().split()[1]\n",
    "    \n",
    "nx = Nutritionix(app_id = nx_app_id, api_key = nx_api_key)"
   ]
  },
  {
   "cell_type": "code",
   "execution_count": 100,
   "metadata": {},
   "outputs": [],
   "source": [
    "def match_items(rough_string_list, threshold = 0.60):\n",
    "    \n",
    "    '''\n",
    "    \n",
    "    Refines rough results returned by OCR by comparing them against the Nutritionix database. Nutritionix has its own 'similarity' metric, but it's inconsistent. SequenceMatcher does a simple comparison between OCR's 'rough string' and Nutritionix's 10 most recommended items. If the most 'similar' string is above a 0.6 ratio compared to the rough string, or if the top three 'similar' strings are very similar to each other, then return a value.\n",
    "    \n",
    "    '''\n",
    "    \n",
    "    def similar(a, b):\n",
    "        return SequenceMatcher(None, a, b).ratio()\n",
    "    \n",
    "    for rough_string in rough_string_list:\n",
    "\n",
    "        res = nx.search(rough_string).json()\n",
    "                          \n",
    "        try:\n",
    "            hits = res['hits']\n",
    "        except KeyError:\n",
    "            continue\n",
    "                \n",
    "        scores_gen = ((similar(rough_string, item['fields']['item_name']), item['fields']['item_name']) for item in hits)\n",
    "        scores_df = pd.DataFrame(scores_gen, columns = ['Score', 'Name']).sort_values('Score', ascending = False)\n",
    "        \n",
    "        highest = scores_df.iloc[0]\n",
    "                \n",
    "        if highest['Score'] > threshold:\n",
    "            yield highest['Name']\n",
    "        \n",
    "        try:\n",
    "            if similar(scores_df.iloc[0,1], scores_df.iloc[1,1]) > threshold and similar(scores_df.iloc[0,1], scores_df.iloc[2,1]) > threshold and similar(scores_df.iloc[1,1], scores_df.iloc[2,1]) > threshold:\n",
    "                yield highest['Name']\n",
    "        except:\n",
    "            continue"
   ]
  },
  {
   "cell_type": "code",
   "execution_count": null,
   "metadata": {},
   "outputs": [],
   "source": []
  }
 ],
 "metadata": {
  "kernelspec": {
   "display_name": "Python 3",
   "language": "python",
   "name": "python3"
  },
  "language_info": {
   "codemirror_mode": {
    "name": "ipython",
    "version": 3
   },
   "file_extension": ".py",
   "mimetype": "text/x-python",
   "name": "python",
   "nbconvert_exporter": "python",
   "pygments_lexer": "ipython3",
   "version": "3.6.8"
  }
 },
 "nbformat": 4,
 "nbformat_minor": 2
}
