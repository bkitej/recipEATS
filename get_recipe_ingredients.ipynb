{
 "cells": [
  {
   "cell_type": "code",
   "execution_count": 1,
   "metadata": {},
   "outputs": [],
   "source": [
    "import pandas as pd\n",
    "import requests\n",
    "import requests_cache\n",
    "\n",
    "requests_cache.install_cache('recipes')"
   ]
  },
  {
   "cell_type": "code",
   "execution_count": 3,
   "metadata": {},
   "outputs": [],
   "source": [
    "keyfile = './keys/edamamAPIkey.txt'\n",
    "\n",
    "def read_key(keyfile):\n",
    "    with open(keyfile) as f:\n",
    "        app_id = f.readline().split()[1]\n",
    "        app_key = f.readline().split()[1]\n",
    "    return (app_id, app_key)\n",
    "\n",
    "app_id, app_key = read_key(keyfile)"
   ]
  },
  {
   "cell_type": "code",
   "execution_count": 4,
   "metadata": {},
   "outputs": [],
   "source": [
    "response = requests.get('https://api.edamam.com/search', params = {\n",
    "    'app_id': app_id,\n",
    "    'app_key': app_key,\n",
    "    'q': 'cornbread',\n",
    "    'from': 0,\n",
    "    'to': 100\n",
    "})"
   ]
  },
  {
   "cell_type": "code",
   "execution_count": 5,
   "metadata": {},
   "outputs": [],
   "source": [
    "response.raise_for_status()"
   ]
  },
  {
   "cell_type": "code",
   "execution_count": 6,
   "metadata": {},
   "outputs": [],
   "source": [
    "recipes = (hit['recipe'] for hit in response.json()['hits'])\n",
    "df = pd.DataFrame(recipes)[['label', 'ingredientLines']]\n",
    "ingredients_series = df.set_index('label')['ingredientLines'].apply(pd.Series).stack()"
   ]
  },
  {
   "cell_type": "code",
   "execution_count": 14,
   "metadata": {},
   "outputs": [],
   "source": [
    "recipes = list(set([k for k,v in list(ingredients_series.index)]))"
   ]
  },
  {
   "cell_type": "code",
   "execution_count": 15,
   "metadata": {},
   "outputs": [
    {
     "data": {
      "text/plain": [
       "'1 1/2 pounds homemade or store-bought cornbread, cut into 1-inch cubes (10 to 12 cups)'"
      ]
     },
     "execution_count": 15,
     "metadata": {},
     "output_type": "execute_result"
    }
   ],
   "source": [
    "ingredients_series.iloc[3]"
   ]
  },
  {
   "cell_type": "code",
   "execution_count": 16,
   "metadata": {},
   "outputs": [
    {
     "data": {
      "text/plain": [
       "0                              3/4 cup butter, divided\n",
       "1                                3/4 cup chopped onion\n",
       "2                               3/4 cup chopped celery\n",
       "3                             2 1/2 cups chicken broth\n",
       "4    1 (16-oz.) package frozen cooked peeled crawfi...\n",
       "5                1/4 to 1/2 teaspoon ground red pepper\n",
       "6    1 (16-oz.) package seasoned cornbread stuffing...\n",
       "dtype: object"
      ]
     },
     "execution_count": 16,
     "metadata": {},
     "output_type": "execute_result"
    }
   ],
   "source": [
    "i = 69\n",
    "ingredients_series.loc[recipes[69]]"
   ]
  },
  {
   "cell_type": "code",
   "execution_count": null,
   "metadata": {},
   "outputs": [],
   "source": []
  }
 ],
 "metadata": {
  "kernelspec": {
   "display_name": "Python 3",
   "language": "python",
   "name": "python3"
  },
  "language_info": {
   "codemirror_mode": {
    "name": "ipython",
    "version": 3
   },
   "file_extension": ".py",
   "mimetype": "text/x-python",
   "name": "python",
   "nbconvert_exporter": "python",
   "pygments_lexer": "ipython3",
   "version": "3.6.8"
  }
 },
 "nbformat": 4,
 "nbformat_minor": 2
}
