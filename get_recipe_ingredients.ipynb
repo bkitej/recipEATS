{
 "cells": [
  {
   "cell_type": "code",
   "execution_count": 3,
   "metadata": {},
   "outputs": [],
   "source": [
    "import pandas as pd\n",
    "import requests\n",
    "import requests_cache\n",
    "\n",
    "requests_cache.install_cache('recipes')"
   ]
  },
  {
   "cell_type": "code",
   "execution_count": 124,
   "metadata": {},
   "outputs": [],
   "source": [
    "keyfile = './keys/edamamAPIkey.txt'\n",
    "\n",
    "def read_key(keyfile):\n",
    "    with open(keyfile) as f:\n",
    "        app_id = f.readline().split()[1]\n",
    "        app_key = f.readline().split()[1]\n",
    "    return (api_id, api_key)\n",
    "\n",
    "app_id, app_key = read_key(keyfile)"
   ]
  },
  {
   "cell_type": "code",
   "execution_count": 49,
   "metadata": {},
   "outputs": [],
   "source": [
    "response = requests.get('https://api.edamam.com/search', params = {\n",
    "    'app_id': app_id,\n",
    "    'app_key': app_key,\n",
    "    'q': 'cornbread',\n",
    "    'from': 0,\n",
    "    'to': 100\n",
    "})"
   ]
  },
  {
   "cell_type": "code",
   "execution_count": 50,
   "metadata": {},
   "outputs": [],
   "source": [
    "response.raise_for_status()"
   ]
  },
  {
   "cell_type": "code",
   "execution_count": 120,
   "metadata": {},
   "outputs": [],
   "source": [
    "recipes = (hit['recipe'] for hit in response.json()['hits'])\n",
    "df = pd.DataFrame(recipes)[['label', 'ingredientLines']]\n",
    "ingredients_series = df.set_index('label')['ingredientLines'].apply(pd.Series).stack()"
   ]
  },
  {
   "cell_type": "code",
   "execution_count": 122,
   "metadata": {},
   "outputs": [],
   "source": [
    "recipes = set([k for k,v in list(ingredients_series.index)])"
   ]
  },
  {
   "cell_type": "code",
   "execution_count": 123,
   "metadata": {},
   "outputs": [
    {
     "data": {
      "text/plain": [
       "0      1/2 cup pure maple syrup, plus more for serving\n",
       "1                                         4 large eggs\n",
       "2                                 3 cups half-and-half\n",
       "3    1 1/2 pounds homemade or store-bought cornbrea...\n",
       "4                                    1/4 teaspoon salt\n",
       "dtype: object"
      ]
     },
     "execution_count": 123,
     "metadata": {},
     "output_type": "execute_result"
    }
   ],
   "source": [
    "ingredients_series.loc['Cornbread Pudding recipes']"
   ]
  },
  {
   "cell_type": "code",
   "execution_count": null,
   "metadata": {},
   "outputs": [],
   "source": []
  }
 ],
 "metadata": {
  "kernelspec": {
   "display_name": "Python 3",
   "language": "python",
   "name": "python3"
  },
  "language_info": {
   "codemirror_mode": {
    "name": "ipython",
    "version": 3
   },
   "file_extension": ".py",
   "mimetype": "text/x-python",
   "name": "python",
   "nbconvert_exporter": "python",
   "pygments_lexer": "ipython3",
   "version": "3.7.2"
  }
 },
 "nbformat": 4,
 "nbformat_minor": 2
}
