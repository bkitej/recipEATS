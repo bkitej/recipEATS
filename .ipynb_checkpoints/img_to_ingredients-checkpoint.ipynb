{
 "cells": [
  {
   "cell_type": "code",
   "execution_count": 164,
   "metadata": {},
   "outputs": [],
   "source": [
    "# OCR portion of recipEATS. Converts (Trader Joe's) receipt \n",
    "# \n",
    "# Inputs: \n",
    "# image of a (Trader Joe's) receipt as a .jpg file.\n",
    "# \n",
    "# Outputs: \n",
    "# clean list of products from said receipt.\n",
    "\n",
    "from PIL import Image\n",
    "from pytesseract import image_to_string    # OCR\n",
    "import requests\n",
    "import re\n",
    "import os                                 \n",
    "from nutritionix import Nutritionix    # wrapper for nutritionix API\n",
    "import pandas as pd\n",
    "from difflib import SequenceMatcher"
   ]
  },
  {
   "cell_type": "code",
   "execution_count": 59,
   "metadata": {},
   "outputs": [],
   "source": [
    "# open each receipt image\n",
    "ims = [Image.open('./receipts/' + x) for x in os.listdir('./receipts')]"
   ]
  },
  {
   "cell_type": "code",
   "execution_count": 71,
   "metadata": {},
   "outputs": [],
   "source": [
    "# split by line\n",
    "# remove part of string to the right of digits (quantity, dollar amount)\n",
    "# remove empty strings\n",
    "item_list = txt.split('\\n')\n",
    "item_list = (re.split('\\d', item)[0] for item in item_list)\n",
    "item_list = (item for item in item_list if item)"
   ]
  },
  {
   "cell_type": "code",
   "execution_count": 78,
   "metadata": {},
   "outputs": [],
   "source": [
    "# get Nutritionix API credentials\n",
    "with open('./keys/nxAPIkey.txt') as f:\n",
    "    nx_app_id = f.readline().split()[1]\n",
    "    nx_api_key = f.readline().split()[1]\n",
    "    \n",
    "nx = Nutritionix(app_id = nx_app_id, api_key = nx_api_key)"
   ]
  },
  {
   "cell_type": "code",
   "execution_count": 166,
   "metadata": {},
   "outputs": [],
   "source": [
    "def match_items(rough_string_list, threshold = 0.45):\n",
    "    \n",
    "    '''\n",
    "    \n",
    "    Refines rough results returned by OCR by comparing them against the Nutritionix database. Nutritionix has its own 'similarity' metric, but it's inconsistent. SequenceMatcher does a simple comparison between OCR's 'rough string' and Nutritionix's 10 most recommended items. The default threshold is set relatively low (0.45; docs suggest 0.6) because this is a secondary matching procedure to Nutritionix's metric. \n",
    "    \n",
    "    '''\n",
    "    \n",
    "    for rough_string in rough_string_list:\n",
    "\n",
    "        hits = nx.search(rough_string).json()['hits']\n",
    "\n",
    "        scores_gen = ((SequenceMatcher(None, rough_string, item['fields']['item_name']).ratio(), item['fields']['item_name']) for item in hits)\n",
    "        scores_df = pd.DataFrame(scores_gen, columns = ['Score', 'Name']).sort_values('Score', ascending = False)\n",
    "        highest = scores_df.iloc[0]\n",
    "        if highest['Score'] > threshold:\n",
    "            yield highest['Name']"
   ]
  },
  {
   "cell_type": "code",
   "execution_count": 162,
   "metadata": {},
   "outputs": [
    {
     "data": {
      "text/plain": [
       "['Kid Burrito',\n",
       " 'Shredded Wheat',\n",
       " 'Chicken Soup Dumplings',\n",
       " 'Chewy Granola Bars, Organic Dark Chocolate Chip',\n",
       " 'Seedless Raisins',\n",
       " 'Eggs, Large Brown, One dozen',\n",
       " 'Shortbread, Raspberry',\n",
       " 'Macaroni & Cheese, Shells',\n",
       " 'Turkey Meatballs',\n",
       " 'Pasta, Penne Rigate',\n",
       " 'Chicken Fried Rice',\n",
       " 'Cookie Dough, Chocolate Chunk',\n",
       " 'Whole Wheat British Muffins',\n",
       " 'Healthy Whole Grain Bread',\n",
       " 'Mandarin Orange Chicken',\n",
       " 'Peanut Butter, Creamy No-Stir',\n",
       " 'Protein Bar, Almond Bliss',\n",
       " 'Protein Energy Bar, Triple Chocolate',\n",
       " 'Protein Energy Bar, Triple Chocolate',\n",
       " 'Macrobar, Mocha Chocolate Chip',\n",
       " 'Soft Cream Cheese',\n",
       " 'Movie Theater Butter Popcorn',\n",
       " 'Honey Lemon Cough Drop',\n",
       " 'Orange Peach Mango Juice',\n",
       " 'Eggs, Extra Large Brown Cage Free',\n",
       " '1% Lowfat Milk, Gallon',\n",
       " 'Gluten Free Hummus, Everything',\n",
       " 'Chive Cream Cheese - 1 tbsp',\n",
       " 'Earl Grey Tea',\n",
       " 'Peppermint Herbal Tea',\n",
       " 'Mac & Cheese',\n",
       " 'Hash Browns',\n",
       " 'Banana',\n",
       " 'Honey Hedgehog Cookies',\n",
       " 'Chicken Breast, Curry',\n",
       " 'Sparkling Apple Juice Drink']"
      ]
     },
     "execution_count": 162,
     "metadata": {},
     "output_type": "execute_result"
    }
   ],
   "source": [
    "list(match_items(item_list))"
   ]
  },
  {
   "cell_type": "code",
   "execution_count": null,
   "metadata": {},
   "outputs": [],
   "source": []
  }
 ],
 "metadata": {
  "kernelspec": {
   "display_name": "Python 3",
   "language": "python",
   "name": "python3"
  },
  "language_info": {
   "codemirror_mode": {
    "name": "ipython",
    "version": 3
   },
   "file_extension": ".py",
   "mimetype": "text/x-python",
   "name": "python",
   "nbconvert_exporter": "python",
   "pygments_lexer": "ipython3",
   "version": "3.6.8"
  }
 },
 "nbformat": 4,
 "nbformat_minor": 2
}
