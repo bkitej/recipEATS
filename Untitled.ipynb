{
 "cells": [
  {
   "cell_type": "code",
   "execution_count": null,
   "metadata": {},
   "outputs": [],
   "source": [
    "# OCR portion of recipEATS. Converts (Trader Joe's) receipt \n",
    "# \n",
    "# Inputs: \n",
    "# image of a (Trader Joe's) receipt as a .jpg file.\n",
    "# \n",
    "# Outputs: \n",
    "# pd.Series of cleaned receipt items\n",
    "\n",
    "from pil import Image \n",
    "from pytesseract import image_to_string"
   ]
  },
  {
   "cell_type": "code",
   "execution_count": null,
   "metadata": {},
   "outputs": [],
   "source": []
  },
  {
   "cell_type": "code",
   "execution_count": null,
   "metadata": {},
   "outputs": [],
   "source": [
    "\n",
    "img = Image.open('./receipts/receipt1.jpg')\n",
    "text = image_to_string(img).lower()\n",
    "items_string = re.search(pattern = 'daily\\n\\n([\\w\\W]*)\\n\\nsubtotal', string = text).group(1)\n",
    "items_list = re.split('[^\\n]\\n', items_string)\n",
    "trimmed_items_list = [re.sub(r'\\w\\-', '', x) for x in items_list]\n",
    "\n",
    "trimmed_items_list = [x for x in trimmed_items_list if '\\n' not in x]"
   ]
  }
 ],
 "metadata": {
  "kernelspec": {
   "display_name": "Python 3",
   "language": "python",
   "name": "python3"
  },
  "language_info": {
   "codemirror_mode": {
    "name": "ipython",
    "version": 3
   },
   "file_extension": ".py",
   "mimetype": "text/x-python",
   "name": "python",
   "nbconvert_exporter": "python",
   "pygments_lexer": "ipython3",
   "version": "3.7.2"
  }
 },
 "nbformat": 4,
 "nbformat_minor": 2
}
